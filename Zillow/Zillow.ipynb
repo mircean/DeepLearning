{
 "cells": [
  {
   "cell_type": "code",
   "execution_count": 1,
   "metadata": {},
   "outputs": [
    {
     "name": "stderr",
     "output_type": "stream",
     "text": [
      "Using TensorFlow backend.\n"
     ]
    }
   ],
   "source": [
    "import numpy as np\n",
    "import pandas as pd\n",
    "import matplotlib.pyplot as plt\n",
    "import pickle\n",
    "import importlib\n",
    "\n",
    "import sklearn\n",
    "#baseline linear regression\n",
    "from sklearn import linear_model\n",
    "#import sklearn.linear_model\n",
    "#normalization\n",
    "from sklearn import preprocessing\n",
    "#train/test split\n",
    "from sklearn.model_selection import train_test_split\n",
    "#from sklearn.cross_validation import train_test_split\n",
    "#metrics\n",
    "from sklearn.metrics import mean_absolute_error\n",
    "\n",
    "#dnn\n",
    "import os,sys,inspect\n",
    "currentdir = os.path.dirname(os.path.abspath(inspect.getfile(inspect.currentframe())))\n",
    "parentdir = os.path.dirname(currentdir)\n",
    "sys.path.insert(0,parentdir) \n",
    "import DNN\n",
    "\n",
    "#keras\n",
    "import keras\n",
    "from keras.models import Sequential\n",
    "from keras.layers import Dense\n",
    "from keras import optimizers\n",
    "from keras import regularizers\n",
    "\n",
    "%matplotlib inline"
   ]
  },
  {
   "cell_type": "code",
   "execution_count": 2,
   "metadata": {},
   "outputs": [
    {
     "name": "stdout",
     "output_type": "stream",
     "text": [
      "3.6.2\n"
     ]
    }
   ],
   "source": [
    "import platform\n",
    "print(platform.python_version())"
   ]
  },
  {
   "cell_type": "code",
   "execution_count": 2,
   "metadata": {},
   "outputs": [
    {
     "data": {
      "text/plain": [
       "<module 'DNN' from 'C:\\\\Users\\\\mircean\\\\git\\\\DeepLearning\\\\DNN.py'>"
      ]
     },
     "execution_count": 2,
     "metadata": {},
     "output_type": "execute_result"
    }
   ],
   "source": [
    "importlib.reload(DNN)"
   ]
  },
  {
   "cell_type": "code",
   "execution_count": 4,
   "metadata": {},
   "outputs": [
    {
     "data": {
      "text/html": [
       "<style>.container { width:50% !important; }</style>"
      ],
      "text/plain": [
       "<IPython.core.display.HTML object>"
      ]
     },
     "metadata": {},
     "output_type": "display_data"
    }
   ],
   "source": [
    "from IPython.core.display import display, HTML\n",
    "display(HTML(\"<style>.container { width:50% !important; }</style>\"))"
   ]
  },
  {
   "cell_type": "code",
   "execution_count": 182,
   "metadata": {
    "scrolled": true
   },
   "outputs": [
    {
     "name": "stderr",
     "output_type": "stream",
     "text": [
      "C:\\Anaconda5\\lib\\site-packages\\IPython\\core\\interactiveshell.py:2698: DtypeWarning: Columns (22,32,34,49,55) have mixed types. Specify dtype option on import or set low_memory=False.\n",
      "  interactivity=interactivity, compiler=compiler, result=result)\n"
     ]
    },
    {
     "name": "stdout",
     "output_type": "stream",
     "text": [
      "(2985217, 58)\n",
      "(90275, 3)\n"
     ]
    }
   ],
   "source": [
    "df1 = pd.read_csv(r'..\\Zillow\\properties_2016.csv')\n",
    "print(df1.shape)\n",
    "df2 = pd.read_csv(r'..\\Zillow\\train_2016_v2.csv')\n",
    "print(df2.shape)\n"
   ]
  },
  {
   "cell_type": "code",
   "execution_count": 24,
   "metadata": {
    "scrolled": true
   },
   "outputs": [
    {
     "data": {
      "text/plain": [
       "(85670, 3)"
      ]
     },
     "execution_count": 24,
     "metadata": {},
     "output_type": "execute_result"
    }
   ],
   "source": [
    "#df2[df2.transactiondate >= '2016-10-15']\n",
    "df2[df2.transactiondate < '2016-10-15'].shape\n",
    "#max(df2.transactiondate)"
   ]
  },
  {
   "cell_type": "code",
   "execution_count": 6,
   "metadata": {},
   "outputs": [
    {
     "name": "stdout",
     "output_type": "stream",
     "text": [
      "(87972, 55)\n",
      "(2303, 55)\n"
     ]
    }
   ],
   "source": [
    "df_train = df2.merge(df1, how='left', on='parcelid')\n",
    "\n",
    "#revisit this fillna\n",
    "df_train = df_train.fillna(0)\n",
    "\n",
    "df_train['taxdelinquencyflag'] = df_train.taxdelinquencyflag.apply(lambda x: 1 if x == 'Y' else 0 )\n",
    "df_train['fireplaceflag'] = df_train.hashottuborspa.astype(int)\n",
    "df_train['hashottuborspa'] = df_train.hashottuborspa.astype(int)\n",
    "\n",
    "#use all old data for training\n",
    "#split the new data, 50% train, 50% dev\n",
    "df_train_1 = df_train[df_train.transactiondate < '2016-10-15']\n",
    "df_train_2 = df_train[df_train.transactiondate >= '2016-10-15']\n",
    "\n",
    "train_index, dev_index = train_test_split(df_train_2.index, test_size=0.5, random_state=0)\n",
    "df_train = pd.concat([df_train_1, df_train_2.loc[train_index]])\n",
    "df_dev = df_train_2.loc[dev_index]\n",
    "\n",
    "y_train = df_train.logerror.values\n",
    "y_dev = df_dev.logerror.values\n",
    "\n",
    "df_train = df_train.drop(['parcelid', 'logerror', 'transactiondate', 'propertyzoningdesc', 'propertycountylandusecode'], axis=1)\n",
    "df_dev = df_dev.drop(['parcelid', 'logerror', 'transactiondate', 'propertyzoningdesc', 'propertycountylandusecode'], axis=1)\n",
    "\n",
    "X_train = df_train.values\n",
    "X_dev = df_dev.values\n",
    "\n",
    "print(X_train.shape)\n",
    "print(X_dev.shape)"
   ]
  },
  {
   "cell_type": "code",
   "execution_count": 7,
   "metadata": {
    "collapsed": true
   },
   "outputs": [],
   "source": [
    "#normalization - mean, var from train set, apply to dev set and test set\n",
    "scaler = preprocessing.StandardScaler().fit(X_train)\n",
    "\n",
    "X_train = scaler.transform(X_train)   \n",
    "X_dev = scaler.transform(X_dev)\n",
    "\n",
    "X_train_k = X_train\n",
    "X_dev_k = X_dev\n",
    "Y_train_k = y_train.reshape(y_train.shape[0], 1)\n",
    "Y_dev_k = y_dev.reshape(y_dev.shape[0], 1)\n",
    "\n",
    "X_train_my = X_train.T\n",
    "X_dev_my = X_dev.T\n",
    "Y_train_my = y_train.reshape(1, y_train.shape[0])\n",
    "Y_dev_my = y_dev.reshape(1, y_dev.shape[0])\n",
    "\n"
   ]
  },
  {
   "cell_type": "code",
   "execution_count": 9,
   "metadata": {},
   "outputs": [
    {
     "name": "stdout",
     "output_type": "stream",
     "text": [
      "0.0683074122879\n",
      "0.0710661821951\n"
     ]
    }
   ],
   "source": [
    "np.random.seed(0) # set a seed so that the results are consistent\n",
    "regr = linear_model.LinearRegression()\n",
    "regr.fit(X_train, y_train)\n",
    "y_pred = regr.predict(X_train)\n",
    "print(mean_absolute_error(y_train, y_pred))\n",
    "y_pred = regr.predict(X_dev)\n",
    "print(mean_absolute_error(y_dev, y_pred))"
   ]
  },
  {
   "cell_type": "code",
   "execution_count": 7,
   "metadata": {
    "collapsed": true
   },
   "outputs": [],
   "source": [
    "class MyCallback(keras.callbacks.Callback):\n",
    "    def __init__(self, verbose):\n",
    "        self.verbose = verbose\n",
    "\n",
    "    def on_epoch_begin(self, epoch, logs=None):\n",
    "        pass\n",
    "\n",
    "    def on_epoch_end(self, epoch, logs=None):\n",
    "        if self.verbose != None and epoch % self.verbose == 0:\n",
    "            print(epoch, logs['loss'], logs['mean_absolute_error'], logs['val_mean_absolute_error']) "
   ]
  },
  {
   "cell_type": "code",
   "execution_count": 10,
   "metadata": {
    "collapsed": true
   },
   "outputs": [],
   "source": [
    "np.random.seed(0)\n",
    "model = Sequential()\n",
    "\n",
    "initializer = keras.initializers.he_normal()\n",
    "\n",
    "regularizer = None\n",
    "\n",
    "model.add(Dense(100, input_dim=X_train_k.shape[1], kernel_initializer=initializer, activation='relu', kernel_regularizer=regularizer))\n",
    "model.add(Dense(20, kernel_initializer=initializer, activation='relu'))\n",
    "#model.add(Dense(20, kernel_initializer=initializer, activation='relu'))\n",
    "model.add(Dense(1, kernel_initializer=initializer))\n",
    "\n",
    "#optimizer = optimizers.SGD(lr=0.05, momentum=0.9)\n",
    "#optimizer = optimizers.RMSprop(lr=0.01)\n",
    "optimizer = optimizers.Adam(lr=0.005)\n",
    "\n",
    "model.compile(loss='mean_squared_error', optimizer=optimizer, metrics=['mae'])\n",
    "\n",
    "results_k = {'loss': [], 'eval0': []}"
   ]
  },
  {
   "cell_type": "code",
   "execution_count": 11,
   "metadata": {
    "scrolled": true
   },
   "outputs": [
    {
     "name": "stdout",
     "output_type": "stream",
     "text": [
      "0 0.0367049118399 0.0880141962608 0.072243984897\n",
      "10 0.0257207859538 0.0690192610553 0.0725026416244\n",
      "20 0.0262263047524 0.0691210498 0.0715653259684\n",
      "30 0.0256708692797 0.0689763535848 0.0718260483733\n",
      "40 0.0256870149762 0.0689584433352 0.071545965824\n",
      "50 0.0255188171343 0.0689776337597 0.0709854542653\n",
      "60 0.0254559158795 0.0688510233552 0.0728517379927\n",
      "70 0.0256183924012 0.0687386739909 0.0713623790762\n",
      "80 0.0255158078948 0.0687632279239 0.0708649374425\n",
      "90 0.0253848011869 0.0685865413818 0.0721621552447\n",
      "0.0686328811312\n",
      "0.0708894346471\n"
     ]
    }
   ],
   "source": [
    "initial_epoch = 0\n",
    "epochs = 100\n",
    "verbose = 0\n",
    "verbose2 = 10\n",
    "#batch_size = int(X_train_k.shape[0])\n",
    "batch_size = 512\n",
    "\n",
    "results_k_tmp = model.fit(X_train_k, Y_train_k, batch_size=batch_size, epochs=epochs, callbacks=[MyCallback(verbose2)], validation_data = (X_dev_k, Y_dev_k), verbose=verbose, initial_epoch=initial_epoch)\n",
    "\n",
    "Y_predict_k = model.predict(X_train_k)\n",
    "print(mean_absolute_error(Y_train_k, Y_predict_k))\n",
    "Y_predict_k = model.predict(X_dev_k)\n",
    "print(mean_absolute_error(Y_dev_k, Y_predict_k))\n",
    "\n",
    "results_k['loss'] += results_k_tmp.history['loss']\n",
    "results_k['eval0'] += results_k_tmp.history['mean_absolute_error']"
   ]
  },
  {
   "cell_type": "code",
   "execution_count": null,
   "metadata": {
    "collapsed": true
   },
   "outputs": [],
   "source": []
  },
  {
   "cell_type": "code",
   "execution_count": 27,
   "metadata": {},
   "outputs": [
    {
     "data": {
      "image/png": "[encoded data removed]",
      "text/plain": [
       "<matplotlib.figure.Figure at 0x283d145f6d8>"
      ]
     },
     "metadata": {},
     "output_type": "display_data"
    }
   ],
   "source": [
    "#plt.plot(results_k['loss'])\n",
    "#plt.show()\n",
    "df_loss_k = pd.DataFrame(results_k['loss'][500:])\n",
    "df_loss_k[0].ewm(span=50).mean().plot(style='k')"
   ]
  },
  {
   "cell_type": "code",
   "execution_count": 28,
   "metadata": {},
   "outputs": [
    {
     "data": {
      "image/png": "[encoded data removed]",
      "text/plain": [
       "<matplotlib.figure.Figure at 0x283d169e208>"
      ]
     },
     "metadata": {},
     "output_type": "display_data"
    }
   ],
   "source": [
    "#plt.plot(results_k['eval0'])\n",
    "#plt.show()\n",
    "df_eval0_k = pd.DataFrame(results_k['eval0'][100:])\n",
    "df_eval0_k[0].ewm(span=50).mean().plot(style='k')"
   ]
  },
  {
   "cell_type": "code",
   "execution_count": 29,
   "metadata": {},
   "outputs": [
    {
     "data": {
      "image/png": "[encoded data removed]",
      "text/plain": [
       "<matplotlib.figure.Figure at 0x283d16ffb00>"
      ]
     },
     "metadata": {},
     "output_type": "display_data"
    }
   ],
   "source": [
    "plt.plot(results_k.history['val_mean_absolute_error'])\n",
    "plt.show()"
   ]
  },
  {
   "cell_type": "code",
   "execution_count": 128,
   "metadata": {},
   "outputs": [
    {
     "data": {
      "text/plain": [
       "<module 'DNN' from 'C:\\\\Users\\\\mircean\\\\git\\\\DeepLearning\\\\DNN.py'>"
      ]
     },
     "execution_count": 128,
     "metadata": {},
     "output_type": "execute_result"
    }
   ],
   "source": [
    "importlib.reload(DNN)"
   ]
  },
  {
   "cell_type": "code",
   "execution_count": 129,
   "metadata": {
    "collapsed": true
   },
   "outputs": [],
   "source": [
    "#random seed for parameters init and mini batch shuffle\n",
    "np.random.seed(0)\n",
    "dnn = DNN.DNN()\n",
    "dnn.add_input_layer(X_train_my.shape[0])\n",
    "dnn.add_layer(100, DNN.relu)\n",
    "dnn.add_layer(20, DNN.relu)\n",
    "#dnn.add_layer(20, DNN.relu)\n",
    "dnn.add_layer(1, DNN.identity)\n",
    "dnn.costfunction = DNN.mean_squared_error\n",
    "dnn.init = 'He'\n",
    "dnn.optimizer = 'Adam'\n",
    "dnn.compile()\n",
    "\n",
    "#eval_set = None\n",
    "eval_set = [(X_train_my, Y_train_my), (X_dev_my, Y_dev_my)]\n",
    "results_my = {'loss': [], 'eval0': [], 'eval1': []}"
   ]
  },
  {
   "cell_type": "code",
   "execution_count": 229,
   "metadata": {
    "scrolled": true
   },
   "outputs": [
    {
     "name": "stdout",
     "output_type": "stream",
     "text": [
      "2017-10-04 19:33:18.711741 Cost after iteration 0 ['0.023959', '0.064889', '0.075724']\n",
      "2017-10-04 19:49:04.299249 Cost after iteration 1000 ['0.023958', '0.064828', '0.075738']\n",
      "2017-10-04 20:04:54.983866 Cost after iteration 2000 ['0.023958', '0.064828', '0.075658']\n",
      "2017-10-04 20:20:35.028146 Cost after iteration 3000 ['0.023958', '0.064904', '0.075736']\n",
      "2017-10-04 20:36:16.312977 Cost after iteration 4000 ['0.023959', '0.065153', '0.075793']\n",
      "2017-10-04 20:51:49.556748 Cost after iteration 5000 ['0.023957', '0.065573', '0.076088']\n",
      "2017-10-04 21:07:22.305597 Cost after iteration 6000 ['0.023957', '0.064601', '0.075781']\n",
      "2017-10-04 21:22:57.724927 Cost after iteration 7000 ['0.023957', '0.065368', '0.075947']\n",
      "2017-10-04 21:38:31.356245 Cost after iteration 8000 ['0.023959', '0.064765', '0.075702']\n",
      "2017-10-04 21:54:04.140171 Cost after iteration 9000 ['0.023962', '0.064940', '0.075741']\n",
      "2017-10-04 22:09:42.044962 Cost after iteration 10000 ['0.023961', '0.065383', '0.076027']\n",
      "2017-10-04 22:25:20.450173 Cost after iteration 11000 ['0.023957', '0.064588', '0.075731']\n",
      "2017-10-04 22:40:55.787041 Cost after iteration 12000 ['0.023959', '0.065010', '0.075847']\n",
      "2017-10-04 22:56:27.615299 Cost after iteration 13000 ['0.023958', '0.065111', '0.075890']\n",
      "2017-10-04 23:12:01.221119 Cost after iteration 14000 ['0.023959', '0.064868', '0.075895']\n",
      "2017-10-04 23:27:35.909290 Cost after iteration 15000 ['0.023962', '0.064705', '0.075806']\n",
      "2017-10-04 23:43:07.660717 Cost after iteration 16000 ['0.023960', '0.065078', '0.075946']\n",
      "2017-10-04 23:58:41.103090 Cost after iteration 17000 ['0.023958', '0.064688', '0.075882']\n",
      "2017-10-05 00:14:22.716981 Cost after iteration 18000 ['0.023961', '0.064876', '0.075943']\n",
      "2017-10-05 00:30:15.812857 Cost after iteration 19000 ['0.023959', '0.064940', '0.075991']\n",
      "2017-10-05 00:45:53.769304 Cost after iteration 20000 ['0.023959', '0.064780', '0.075844']\n",
      "2017-10-05 01:01:29.282032 Cost after iteration 21000 ['0.023960', '0.064926', '0.075945']\n",
      "2017-10-05 01:17:03.438732 Cost after iteration 22000 ['0.023958', '0.064721', '0.075909']\n",
      "2017-10-05 01:32:43.512521 Cost after iteration 23000 ['0.023958', '0.064983', '0.075965']\n",
      "2017-10-05 01:48:28.106304 Cost after iteration 24000 ['0.023960', '0.064687', '0.075950']\n",
      "2017-10-05 02:04:01.656065 Cost after iteration 25000 ['0.023957', '0.064690', '0.075980']\n",
      "2017-10-05 02:19:36.729247 Cost after iteration 26000 ['0.023959', '0.065134', '0.076125']\n",
      "2017-10-05 02:35:16.226034 Cost after iteration 27000 ['0.023961', '0.065138', '0.076147']\n",
      "2017-10-05 02:50:49.332708 Cost after iteration 28000 ['0.023959', '0.064794', '0.075984']\n",
      "2017-10-05 03:06:34.071787 Cost after iteration 29000 ['0.023959', '0.064951', '0.076060']\n",
      "2017-10-05 03:22:06.740562 Cost after iteration 30000 ['0.023960', '0.065202', '0.076124']\n",
      "2017-10-05 03:37:40.049206 Cost after iteration 31000 ['0.023958', '0.065160', '0.076127']\n",
      "2017-10-05 03:53:12.678568 Cost after iteration 32000 ['0.023959', '0.065837', '0.076561']\n",
      "2017-10-05 04:08:48.142483 Cost after iteration 33000 ['0.023959', '0.064826', '0.076039']\n",
      "2017-10-05 04:24:23.170312 Cost after iteration 34000 ['0.023960', '0.064615', '0.076018']\n",
      "2017-10-05 04:39:56.393887 Cost after iteration 35000 ['0.023960', '0.065029', '0.076172']\n",
      "2017-10-05 04:55:29.471035 Cost after iteration 36000 ['0.023956', '0.064663', '0.076133']\n",
      "2017-10-05 05:11:08.019789 Cost after iteration 37000 ['0.023959', '0.065035', '0.076178']\n",
      "2017-10-05 05:26:43.162578 Cost after iteration 38000 ['0.023957', '0.064910', '0.076122']\n",
      "2017-10-05 05:41:56.555754 Cost after iteration 39000 ['0.023959', '0.065175', '0.076219']\n",
      "2017-10-05 05:57:32.388368 Cost after iteration 40000 ['0.023960', '0.064870', '0.076132']\n",
      "2017-10-05 06:12:46.187376 Cost after iteration 41000 ['0.023960', '0.065262', '0.076215']\n",
      "2017-10-05 06:28:17.410598 Cost after iteration 42000 ['0.023958', '0.064759', '0.076157']\n",
      "2017-10-05 06:43:44.085498 Cost after iteration 43000 ['0.023959', '0.064662', '0.076108']\n",
      "2017-10-05 06:59:10.763998 Cost after iteration 44000 ['0.023960', '0.064885', '0.076187']\n",
      "2017-10-05 07:14:31.959013 Cost after iteration 45000 ['0.023962', '0.065009', '0.076219']\n",
      "2017-10-05 07:29:54.092664 Cost after iteration 46000 ['0.023958', '0.064999', '0.076215']\n",
      "2017-10-05 07:45:29.302954 Cost after iteration 47000 ['0.023959', '0.065158', '0.076219']\n",
      "2017-10-05 08:00:41.365921 Cost after iteration 48000 ['0.023958', '0.065288', '0.076361']\n",
      "2017-10-05 08:16:05.696910 Cost after iteration 49000 ['0.023958', '0.064869', '0.076172']\n",
      "2017-10-05 08:31:29.229187 Cost after iteration 50000 ['0.023959', '0.064993', '0.076271']\n",
      "2017-10-05 08:46:59.209778 Cost after iteration 51000 ['0.023961', '0.065225', '0.076393']\n",
      "2017-10-05 09:02:30.417424 Cost after iteration 52000 ['0.023958', '0.064914', '0.076189']\n",
      "2017-10-05 09:18:09.635839 Cost after iteration 53000 ['0.023958', '0.065457', '0.076345']\n",
      "2017-10-05 09:33:36.377706 Cost after iteration 54000 ['0.023961', '0.065095', '0.076220']\n",
      "2017-10-05 09:48:47.403492 Cost after iteration 55000 ['0.023958', '0.065554', '0.076524']\n",
      "2017-10-05 10:04:16.166187 Cost after iteration 56000 ['0.023958', '0.064665', '0.076147']\n",
      "2017-10-05 10:19:42.299295 Cost after iteration 57000 ['0.023957', '0.064702', '0.076198']\n",
      "2017-10-05 10:35:04.858595 Cost after iteration 58000 ['0.023961', '0.065172', '0.076269']\n",
      "2017-10-05 10:50:40.608522 Cost after iteration 59000 ['0.023959', '0.065482', '0.076540']\n",
      "2017-10-05 11:05:56.155917 Cost after iteration 60000 ['0.023958', '0.064943', '0.076254']\n",
      "2017-10-05 11:21:00.148611 Cost after iteration 61000 ['0.023962', '0.064819', '0.076151']\n",
      "2017-10-05 11:36:11.632895 Cost after iteration 62000 ['0.023961', '0.065028', '0.076301']\n",
      "2017-10-05 11:51:37.105702 Cost after iteration 63000 ['0.023957', '0.064680', '0.076223']\n",
      "2017-10-05 12:06:44.716578 Cost after iteration 64000 ['0.023957', '0.065316', '0.076394']\n",
      "2017-10-05 12:21:53.038422 Cost after iteration 65000 ['0.023959', '0.064626', '0.076147']\n",
      "2017-10-05 12:36:57.899331 Cost after iteration 66000 ['0.023960', '0.064683', '0.076195']\n",
      "2017-10-05 12:51:59.824384 Cost after iteration 67000 ['0.023959', '0.064805', '0.076269']\n",
      "2017-10-05 13:07:10.800188 Cost after iteration 68000 ['0.023958', '0.065074', '0.076315']\n",
      "2017-10-05 13:22:36.151707 Cost after iteration 69000 ['0.023958', '0.064932', '0.076256']\n",
      "2017-10-05 13:37:46.393933 Cost after iteration 70000 ['0.023959', '0.064983', '0.076231']\n",
      "2017-10-05 13:53:01.466570 Cost after iteration 71000 ['0.023959', '0.064838', '0.076303']\n",
      "0.064848387037\n",
      "0.0762732367439\n"
     ]
    }
   ],
   "source": [
    "learning_rate = 0.001\n",
    "epochs = 71400\n",
    "batch_size = 512\n",
    "gradient_check=False\n",
    "verbose = 1000\n",
    "\n",
    "#eval_set = None\n",
    "eval_set = [(X_train_my, Y_train_my), (X_dev_my, Y_dev_my)]\n",
    "results_tmp = dnn.fit(X_train_my, Y_train_my, eval_set=eval_set, eval_metric='mae', learning_rate=learning_rate, epochs=epochs, batch_size=batch_size, gradient_check=gradient_check, verbose=verbose)\n",
    "Y_predict_my = dnn.predict(X_train_my)\n",
    "print(mean_absolute_error(np.reshape(Y_train_my, Y_train_my.shape[1]), np.reshape(Y_predict_my, Y_predict_my.shape[1])))\n",
    "Y_predict_my = dnn.predict(X_dev_my)\n",
    "print(mean_absolute_error(np.reshape(Y_dev_my, Y_dev_my.shape[1]), np.reshape(Y_predict_my, Y_predict_my.shape[1])))\n",
    "\n",
    "results_my['loss'] += results_tmp['loss']\n",
    "results_my['eval0'] += results_tmp['eval0']\n",
    "results_my['eval1'] += results_tmp['eval1']\n",
    "\n",
    "print(dnn.epochs, dnn.minibatches)"
   ]
  },
  {
   "cell_type": "code",
   "execution_count": 239,
   "metadata": {},
   "outputs": [],
   "source": [
    "#dnn = DNN.DNN.load('file1.pickle')\n",
    "dnn.save('file1.pickle')\n",
    "\n",
    "#360K lr=0.005\n",
    "#90K lr=0.001"
   ]
  },
  {
   "cell_type": "code",
   "execution_count": 237,
   "metadata": {},
   "outputs": [
    {
     "data": {
      "text/plain": [
       "<matplotlib.axes._subplots.AxesSubplot at 0x203d590ea20>"
      ]
     },
     "execution_count": 237,
     "metadata": {},
     "output_type": "execute_result"
    },
    {
     "data": {
      "image/png": "[encoded data removed]",
      "text/plain": [
       "<matplotlib.figure.Figure at 0x203f50550b8>"
      ]
     },
     "metadata": {},
     "output_type": "display_data"
    }
   ],
   "source": [
    "#plt.plot(results_my['loss'][100:])\n",
    "#plt.show()\n",
    "df_loss = pd.DataFrame(results_my['loss'][-90000:])\n",
    "df_loss[df_loss[0] > 0.5] = df_loss[0].mean()\n",
    "#df_loss[0].plot()\n",
    "df_loss[0].ewm(span=200).mean().plot(style='k')"
   ]
  },
  {
   "cell_type": "code",
   "execution_count": 238,
   "metadata": {},
   "outputs": [
    {
     "data": {
      "text/plain": [
       "<matplotlib.axes._subplots.AxesSubplot at 0x2038e109c18>"
      ]
     },
     "execution_count": 238,
     "metadata": {},
     "output_type": "execute_result"
    },
    {
     "data": {
      "image/png": "[encoded data removed]",
      "text/plain": [
       "<matplotlib.figure.Figure at 0x20402544828>"
      ]
     },
     "metadata": {},
     "output_type": "display_data"
    }
   ],
   "source": [
    "#plt.plot(results_my['eval0'][100:])\n",
    "#plt.show()\n",
    "df_eval0 = pd.DataFrame(results_my['eval0'][-90000:])\n",
    "df_eval0[0].ewm(span=1000).mean().plot(style='k')"
   ]
  },
  {
   "cell_type": "code",
   "execution_count": 113,
   "metadata": {},
   "outputs": [
    {
     "data": {
      "text/plain": [
       "count    20.000000\n",
       "mean      0.068786\n",
       "std       0.000418\n",
       "min       0.068378\n",
       "25%       0.068556\n",
       "50%       0.068653\n",
       "75%       0.068921\n",
       "max       0.070219\n",
       "Name: 0, dtype: float64"
      ]
     },
     "execution_count": 113,
     "metadata": {},
     "output_type": "execute_result"
    }
   ],
   "source": [
    "df_eval0[0].describe()"
   ]
  },
  {
   "cell_type": "code",
   "execution_count": 190,
   "metadata": {},
   "outputs": [
    {
     "data": {
      "text/plain": [
       "<matplotlib.axes._subplots.AxesSubplot at 0x203e08e87f0>"
      ]
     },
     "execution_count": 190,
     "metadata": {},
     "output_type": "execute_result"
    },
    {
     "data": {
      "image/png": "[encoded data removed]",
      "text/plain": [
       "<matplotlib.figure.Figure at 0x20400bfba20>"
      ]
     },
     "metadata": {},
     "output_type": "display_data"
    }
   ],
   "source": [
    "df_eval1 = pd.DataFrame(results_my['eval1'][100:])\n",
    "df_eval1[0].ewm(span=200).mean().plot(style='k')"
   ]
  },
  {
   "cell_type": "code",
   "execution_count": 94,
   "metadata": {},
   "outputs": [
    {
     "data": {
      "text/plain": [
       "5000"
      ]
     },
     "execution_count": 94,
     "metadata": {},
     "output_type": "execute_result"
    }
   ],
   "source": [
    "len(results_my['eval1'])"
   ]
  },
  {
   "cell_type": "code",
   "execution_count": null,
   "metadata": {
    "collapsed": true
   },
   "outputs": [],
   "source": []
  },
  {
   "cell_type": "code",
   "execution_count": null,
   "metadata": {
    "collapsed": true
   },
   "outputs": [],
   "source": []
  }
 ],
 "metadata": {
  "anaconda-cloud": {},
  "kernelspec": {
   "display_name": "Python 3",
   "language": "python",
   "name": "python3"
  },
  "language_info": {
   "codemirror_mode": {
    "name": "ipython",
    "version": 3
   },
   "file_extension": ".py",
   "mimetype": "text/x-python",
   "name": "python",
   "nbconvert_exporter": "python",
   "pygments_lexer": "ipython3",
   "version": "3.6.2"
  }
 },
 "nbformat": 4,
 "nbformat_minor": 1
}
