{
 "cells": [
  {
   "cell_type": "code",
   "execution_count": 1,
   "metadata": {},
   "outputs": [
    {
     "name": "stderr",
     "output_type": "stream",
     "text": [
      "Using TensorFlow backend.\n"
     ]
    }
   ],
   "source": [
    "import numpy as np\n",
    "import datetime\n",
    "import pandas as pd\n",
    "import matplotlib.pyplot as plt\n",
    "import pickle\n",
    "import importlib\n",
    "\n",
    "import sklearn\n",
    "#baseline linear regression\n",
    "from sklearn import linear_model\n",
    "#import sklearn.linear_model\n",
    "#normalization\n",
    "from sklearn import preprocessing\n",
    "#train/test split\n",
    "from sklearn.model_selection import train_test_split\n",
    "#from sklearn.cross_validation import train_test_split\n",
    "#metrics\n",
    "from sklearn.metrics import mean_absolute_error\n",
    "\n",
    "#dnn\n",
    "import os,sys,inspect\n",
    "currentdir = os.path.dirname(os.path.abspath(inspect.getfile(inspect.currentframe())))\n",
    "parentdir = os.path.dirname(currentdir)\n",
    "sys.path.insert(0,parentdir) \n",
    "import DNN\n",
    "\n",
    "#keras\n",
    "import keras\n",
    "from keras.models import Sequential\n",
    "from keras.layers import Dense\n",
    "from keras import optimizers\n",
    "from keras import regularizers\n",
    "\n",
    "%matplotlib inline"
   ]
  },
  {
   "cell_type": "code",
   "execution_count": 2,
   "metadata": {},
   "outputs": [
    {
     "name": "stdout",
     "output_type": "stream",
     "text": [
      "3.6.2\n"
     ]
    }
   ],
   "source": [
    "import platform\n",
    "print(platform.python_version())"
   ]
  },
  {
   "cell_type": "code",
   "execution_count": 2,
   "metadata": {},
   "outputs": [
    {
     "data": {
      "text/plain": [
       "<module 'DNN' from 'C:\\\\Users\\\\mircean\\\\git\\\\DeepLearning\\\\DNN.py'>"
      ]
     },
     "execution_count": 2,
     "metadata": {},
     "output_type": "execute_result"
    }
   ],
   "source": [
    "importlib.reload(DNN)"
   ]
  },
  {
   "cell_type": "code",
   "execution_count": 4,
   "metadata": {},
   "outputs": [
    {
     "data": {
      "text/html": [
       "<style>.container { width:50% !important; }</style>"
      ],
      "text/plain": [
       "<IPython.core.display.HTML object>"
      ]
     },
     "metadata": {},
     "output_type": "display_data"
    }
   ],
   "source": [
    "from IPython.core.display import display, HTML\n",
    "display(HTML(\"<style>.container { width:50% !important; }</style>\"))"
   ]
  },
  {
   "cell_type": "code",
   "execution_count": 3,
   "metadata": {
    "scrolled": true
   },
   "outputs": [
    {
     "name": "stderr",
     "output_type": "stream",
     "text": [
      "C:\\Anaconda5\\lib\\site-packages\\IPython\\core\\interactiveshell.py:2698: DtypeWarning: Columns (22,32,34,49,55) have mixed types. Specify dtype option on import or set low_memory=False.\n",
      "  interactivity=interactivity, compiler=compiler, result=result)\n"
     ]
    },
    {
     "name": "stdout",
     "output_type": "stream",
     "text": [
      "(2985217, 58)\n",
      "(90275, 3)\n"
     ]
    }
   ],
   "source": [
    "df1 = pd.read_csv(r'..\\Zillow\\properties_2016.csv')\n",
    "print(df1.shape)\n",
    "df2 = pd.read_csv(r'..\\Zillow\\train_2016_v2.csv')\n",
    "print(df2.shape)\n"
   ]
  },
  {
   "cell_type": "code",
   "execution_count": 24,
   "metadata": {
    "scrolled": true
   },
   "outputs": [
    {
     "data": {
      "text/plain": [
       "(85670, 3)"
      ]
     },
     "execution_count": 24,
     "metadata": {},
     "output_type": "execute_result"
    }
   ],
   "source": [
    "#df2[df2.transactiondate >= '2016-10-15']\n",
    "df2[df2.transactiondate < '2016-10-15'].shape\n",
    "#max(df2.transactiondate)"
   ]
  },
  {
   "cell_type": "code",
   "execution_count": 4,
   "metadata": {},
   "outputs": [
    {
     "name": "stdout",
     "output_type": "stream",
     "text": [
      "(87972, 55)\n",
      "(2303, 55)\n"
     ]
    }
   ],
   "source": [
    "df_train = df2.merge(df1, how='left', on='parcelid')\n",
    "\n",
    "#revisit this fillna\n",
    "df_train = df_train.fillna(0)\n",
    "\n",
    "df_train['taxdelinquencyflag'] = df_train.taxdelinquencyflag.apply(lambda x: 1 if x == 'Y' else 0 )\n",
    "df_train['fireplaceflag'] = df_train.hashottuborspa.astype(int)\n",
    "df_train['hashottuborspa'] = df_train.hashottuborspa.astype(int)\n",
    "\n",
    "#use all old data for training\n",
    "#split the new data, 50% train, 50% dev\n",
    "df_train_1 = df_train[df_train.transactiondate < '2016-10-15']\n",
    "df_train_2 = df_train[df_train.transactiondate >= '2016-10-15']\n",
    "\n",
    "train_index, dev_index = train_test_split(df_train_2.index, test_size=0.5, random_state=0)\n",
    "df_train = pd.concat([df_train_1, df_train_2.loc[train_index]])\n",
    "df_dev = df_train_2.loc[dev_index]\n",
    "\n",
    "y_train = df_train.logerror.values\n",
    "y_dev = df_dev.logerror.values\n",
    "\n",
    "df_train = df_train.drop(['parcelid', 'logerror', 'transactiondate', 'propertyzoningdesc', 'propertycountylandusecode'], axis=1)\n",
    "df_dev = df_dev.drop(['parcelid', 'logerror', 'transactiondate', 'propertyzoningdesc', 'propertycountylandusecode'], axis=1)\n",
    "\n",
    "X_train = df_train.values\n",
    "X_dev = df_dev.values\n",
    "\n",
    "print(X_train.shape)\n",
    "print(X_dev.shape)"
   ]
  },
  {
   "cell_type": "code",
   "execution_count": 5,
   "metadata": {
    "collapsed": true
   },
   "outputs": [],
   "source": [
    "#normalization - mean, var from train set, apply to dev set and test set\n",
    "scaler = preprocessing.StandardScaler().fit(X_train)\n",
    "\n",
    "X_train = scaler.transform(X_train)   \n",
    "X_dev = scaler.transform(X_dev)\n",
    "\n",
    "X_train_k = X_train\n",
    "X_dev_k = X_dev\n",
    "Y_train_k = y_train.reshape(y_train.shape[0], 1)\n",
    "Y_dev_k = y_dev.reshape(y_dev.shape[0], 1)\n",
    "\n",
    "X_train_my = X_train.T\n",
    "X_dev_my = X_dev.T\n",
    "Y_train_my = y_train.reshape(1, y_train.shape[0])\n",
    "Y_dev_my = y_dev.reshape(1, y_dev.shape[0])\n",
    "\n"
   ]
  },
  {
   "cell_type": "code",
   "execution_count": 9,
   "metadata": {},
   "outputs": [
    {
     "name": "stdout",
     "output_type": "stream",
     "text": [
      "0.0683074122879\n",
      "0.0710661821951\n"
     ]
    }
   ],
   "source": [
    "np.random.seed(0) # set a seed so that the results are consistent\n",
    "regr = linear_model.LinearRegression()\n",
    "regr.fit(X_train, y_train)\n",
    "y_pred = regr.predict(X_train)\n",
    "print(mean_absolute_error(y_train, y_pred))\n",
    "y_pred = regr.predict(X_dev)\n",
    "print(mean_absolute_error(y_dev, y_pred))"
   ]
  },
  {
   "cell_type": "code",
   "execution_count": 6,
   "metadata": {
    "collapsed": true
   },
   "outputs": [],
   "source": [
    "class MyCallback(keras.callbacks.Callback):\n",
    "    def __init__(self, verbose):\n",
    "        self.verbose = verbose\n",
    "\n",
    "    def on_epoch_begin(self, epoch, logs=None):\n",
    "        pass\n",
    "\n",
    "    def on_epoch_end(self, epoch, logs=None):\n",
    "        if self.verbose != None and epoch % self.verbose == 0:\n",
    "            print(datetime.datetime.now(), epoch, logs['loss'], logs['mean_absolute_error'], logs['val_mean_absolute_error']) "
   ]
  },
  {
   "cell_type": "code",
   "execution_count": null,
   "metadata": {
    "collapsed": true
   },
   "outputs": [],
   "source": [
    "np.random.seed(0)\n",
    "model = Sequential()\n",
    "\n",
    "initializer = keras.initializers.he_normal()\n",
    "\n",
    "regularizer = None\n",
    "\n",
    "model.add(Dense(100, input_dim=X_train_k.shape[1], kernel_initializer=initializer, activation='relu', kernel_regularizer=regularizer))\n",
    "model.add(Dense(20, kernel_initializer=initializer, activation='relu'))\n",
    "#model.add(Dense(20, kernel_initializer=initializer, activation='relu'))\n",
    "model.add(Dense(1, kernel_initializer=initializer))\n",
    "\n",
    "#optimizer = optimizers.SGD(lr=0.05, momentum=0.9)\n",
    "#optimizer = optimizers.RMSprop(lr=0.01)\n",
    "optimizer = optimizers.Adam(lr=0.005)\n",
    "\n",
    "model.compile(loss='mean_squared_error', optimizer=optimizer, metrics=['mae'])\n",
    "\n",
    "results_k = {'loss': [], 'eval0': []}"
   ]
  },
  {
   "cell_type": "code",
   "execution_count": null,
   "metadata": {
    "scrolled": true
   },
   "outputs": [
    {
     "name": "stdout",
     "output_type": "stream",
     "text": [
      "Start fit\n",
      "2017-10-05 15:17:23.591985 0 0.036054829343 0.0867392156789 0.0720607587438\n",
      "2017-10-05 15:18:25.172653 100 0.0244661224359 0.0683504867731 0.0718659563552\n"
     ]
    }
   ],
   "source": [
    "initial_epoch = 0\n",
    "epochs = 200\n",
    "verbose = 0\n",
    "verbose2 = 100\n",
    "#batch_size = int(X_train_k.shape[0])\n",
    "batch_size = 512\n",
    "\n",
    "print('Start fit')\n",
    "results_k_tmp = model.fit(X_train_k, Y_train_k, batch_size=batch_size, epochs=epochs, callbacks=[MyCallback(verbose2)], validation_data = (X_dev_k, Y_dev_k), verbose=verbose, initial_epoch=initial_epoch)\n",
    "\n",
    "Y_predict_k = model.predict(X_train_k)\n",
    "print(mean_absolute_error(Y_train_k, Y_predict_k))\n",
    "Y_predict_k = model.predict(X_dev_k)\n",
    "print(mean_absolute_error(Y_dev_k, Y_predict_k))\n",
    "\n",
    "results_k['loss'] += results_k_tmp.history['loss']\n",
    "results_k['eval0'] += results_k_tmp.history['mean_absolute_error']"
   ]
  },
  {
   "cell_type": "code",
   "execution_count": null,
   "metadata": {
    "collapsed": true
   },
   "outputs": [],
   "source": []
  },
  {
   "cell_type": "code",
   "execution_count": 14,
   "metadata": {},
   "outputs": [
    {
     "data": {
      "text/plain": [
       "<matplotlib.axes._subplots.AxesSubplot at 0x154ba15a080>"
      ]
     },
     "execution_count": 14,
     "metadata": {},
     "output_type": "execute_result"
    },
    {
     "data": {
      "image/png": "[encoded data removed]",
      "text/plain": [
       "<matplotlib.figure.Figure at 0x154ba1e8748>"
      ]
     },
     "metadata": {},
     "output_type": "display_data"
    }
   ],
   "source": [
    "#plt.plot(results_k['loss'])\n",
    "#plt.show()\n",
    "df_loss_k = pd.DataFrame(results_k['loss'][0:])\n",
    "df_loss_k[0].ewm(span=50).mean().plot(style='k')"
   ]
  },
  {
   "cell_type": "code",
   "execution_count": 15,
   "metadata": {},
   "outputs": [
    {
     "data": {
      "text/plain": [
       "<matplotlib.axes._subplots.AxesSubplot at 0x154a91c9278>"
      ]
     },
     "execution_count": 15,
     "metadata": {},
     "output_type": "execute_result"
    },
    {
     "data": {
      "image/png": "[encoded data removed]",
      "text/plain": [
       "<matplotlib.figure.Figure at 0x154ba6e0a90>"
      ]
     },
     "metadata": {},
     "output_type": "display_data"
    }
   ],
   "source": [
    "#plt.plot(results_k['eval0'])\n",
    "#plt.show()\n",
    "df_eval0_k = pd.DataFrame(results_k['eval0'][0:])\n",
    "df_eval0_k[0].ewm(span=50).mean().plot(style='k')"
   ]
  },
  {
   "cell_type": "code",
   "execution_count": 29,
   "metadata": {},
   "outputs": [
    {
     "data": {
      "image/png": "[encoded data removed]",
      "text/plain": [
       "<matplotlib.figure.Figure at 0x283d16ffb00>"
      ]
     },
     "metadata": {},
     "output_type": "display_data"
    }
   ],
   "source": [
    "plt.plot(results_k.history['val_mean_absolute_error'])\n",
    "plt.show()"
   ]
  },
  {
   "cell_type": "code",
   "execution_count": 128,
   "metadata": {},
   "outputs": [
    {
     "data": {
      "text/plain": [
       "<module 'DNN' from 'C:\\\\Users\\\\mircean\\\\git\\\\DeepLearning\\\\DNN.py'>"
      ]
     },
     "execution_count": 128,
     "metadata": {},
     "output_type": "execute_result"
    }
   ],
   "source": [
    "importlib.reload(DNN)"
   ]
  },
  {
   "cell_type": "code",
   "execution_count": 129,
   "metadata": {
    "collapsed": true
   },
   "outputs": [],
   "source": [
    "#random seed for parameters init and mini batch shuffle\n",
    "np.random.seed(0)\n",
    "dnn = DNN.DNN()\n",
    "dnn.add_input_layer(X_train_my.shape[0])\n",
    "dnn.add_layer(100, DNN.relu)\n",
    "dnn.add_layer(20, DNN.relu)\n",
    "#dnn.add_layer(20, DNN.relu)\n",
    "dnn.add_layer(1, DNN.identity)\n",
    "dnn.costfunction = DNN.mean_squared_error\n",
    "dnn.init = 'He'\n",
    "dnn.optimizer = 'Adam'\n",
    "dnn.compile()\n",
    "\n",
    "#eval_set = None\n",
    "eval_set = [(X_train_my, Y_train_my), (X_dev_my, Y_dev_my)]\n",
    "results_my = {'loss': [], 'eval0': [], 'eval1': []}"
   ]
  },
  {
   "cell_type": "code",
   "execution_count": null,
   "metadata": {
    "scrolled": true
   },
   "outputs": [
    {
     "name": "stdout",
     "output_type": "stream",
     "text": [
      "2017-10-04 10:18:01.445748 Cost after iteration 0 ['0.024006', '0.066045', '0.075726']\n"
     ]
    }
   ],
   "source": [
    "learning_rate = 0.005\n",
    "epochs = 10000\n",
    "batch_size = 512\n",
    "gradient_check=False\n",
    "verbose = 1000\n",
    "\n",
    "#eval_set = None\n",
    "eval_set = [(X_train_my, Y_train_my), (X_dev_my, Y_dev_my)]\n",
    "results_tmp = dnn.fit(X_train_my, Y_train_my, eval_set=eval_set, eval_metric='mae', learning_rate=learning_rate, epochs=epochs, batch_size=batch_size, gradient_check=gradient_check, verbose=verbose)\n",
    "Y_predict_my = dnn.predict(X_train_my)\n",
    "print(mean_absolute_error(np.reshape(Y_train_my, Y_train_my.shape[1]), np.reshape(Y_predict_my, Y_predict_my.shape[1])))\n",
    "Y_predict_my = dnn.predict(X_dev_my)\n",
    "print(mean_absolute_error(np.reshape(Y_dev_my, Y_dev_my.shape[1]), np.reshape(Y_predict_my, Y_predict_my.shape[1])))\n",
    "\n",
    "results_my['loss'] += results_tmp['loss']\n",
    "results_my['eval0'] += results_tmp['eval0']\n",
    "results_my['eval1'] += results_tmp['eval1']"
   ]
  },
  {
   "cell_type": "code",
   "execution_count": 199,
   "metadata": {},
   "outputs": [
    {
     "name": "stdout",
     "output_type": "stream",
     "text": [
      "347575 59782764\n"
     ]
    }
   ],
   "source": [
    "#dnn = DNN.DNN.load('file1.pickle')\n",
    "#dnn.save('file1.pickle')\n",
    "print(dnn.epochs, dnn.minibatches)\n",
    "\n",
    "#350K lr=0.005"
   ]
  },
  {
   "cell_type": "code",
   "execution_count": 184,
   "metadata": {},
   "outputs": [
    {
     "data": {
      "image/png": "[encoded data removed]",
      "text/plain": [
       "<matplotlib.figure.Figure at 0x203e38ca828>"
      ]
     },
     "metadata": {},
     "output_type": "display_data"
    }
   ],
   "source": [
    "plt.plot(results_my['loss'][100:])\n",
    "plt.show()"
   ]
  },
  {
   "cell_type": "code",
   "execution_count": 201,
   "metadata": {},
   "outputs": [
    {
     "data": {
      "text/plain": [
       "<matplotlib.axes._subplots.AxesSubplot at 0x203fe9e6978>"
      ]
     },
     "execution_count": 201,
     "metadata": {},
     "output_type": "execute_result"
    },
    {
     "data": {
      "image/png": "[encoded data removed]",
      "text/plain": [
       "<matplotlib.figure.Figure at 0x204009707b8>"
      ]
     },
     "metadata": {},
     "output_type": "display_data"
    }
   ],
   "source": [
    "df_loss = pd.DataFrame(results_my['loss'][100000:])\n",
    "df_loss[df_loss[0] > 0.5] = df_loss[0].mean()\n",
    "#df_loss[0].plot()\n",
    "df_loss[0].ewm(span=200).mean().plot(style='k')"
   ]
  },
  {
   "cell_type": "code",
   "execution_count": 178,
   "metadata": {},
   "outputs": [
    {
     "data": {
      "image/png": "[encoded data removed]",
      "text/plain": [
       "<matplotlib.figure.Figure at 0x203fe41e470>"
      ]
     },
     "metadata": {},
     "output_type": "display_data"
    }
   ],
   "source": [
    "plt.plot(results_my['eval0'][100:])\n",
    "plt.show()"
   ]
  },
  {
   "cell_type": "code",
   "execution_count": 202,
   "metadata": {},
   "outputs": [
    {
     "data": {
      "text/plain": [
       "<matplotlib.axes._subplots.AxesSubplot at 0x203de8f1cc0>"
      ]
     },
     "execution_count": 202,
     "metadata": {},
     "output_type": "execute_result"
    },
    {
     "data": {
      "image/png": "[encoded data removed]",
      "text/plain": [
       "<matplotlib.figure.Figure at 0x2038e3257b8>"
      ]
     },
     "metadata": {},
     "output_type": "display_data"
    }
   ],
   "source": [
    "df_eval0 = pd.DataFrame(results_my['eval0'][100000:])\n",
    "df_eval0[0].ewm(span=1000).mean().plot(style='k')"
   ]
  },
  {
   "cell_type": "code",
   "execution_count": 113,
   "metadata": {},
   "outputs": [
    {
     "data": {
      "text/plain": [
       "count    20.000000\n",
       "mean      0.068786\n",
       "std       0.000418\n",
       "min       0.068378\n",
       "25%       0.068556\n",
       "50%       0.068653\n",
       "75%       0.068921\n",
       "max       0.070219\n",
       "Name: 0, dtype: float64"
      ]
     },
     "execution_count": 113,
     "metadata": {},
     "output_type": "execute_result"
    }
   ],
   "source": [
    "df_eval0[0].describe()"
   ]
  },
  {
   "cell_type": "code",
   "execution_count": 190,
   "metadata": {},
   "outputs": [
    {
     "data": {
      "text/plain": [
       "<matplotlib.axes._subplots.AxesSubplot at 0x203e08e87f0>"
      ]
     },
     "execution_count": 190,
     "metadata": {},
     "output_type": "execute_result"
    },
    {
     "data": {
      "image/png": "[encoded data removed]",
      "text/plain": [
       "<matplotlib.figure.Figure at 0x20400bfba20>"
      ]
     },
     "metadata": {},
     "output_type": "display_data"
    }
   ],
   "source": [
    "df_eval1 = pd.DataFrame(results_my['eval1'][100:])\n",
    "df_eval1[0].ewm(span=200).mean().plot(style='k')"
   ]
  },
  {
   "cell_type": "code",
   "execution_count": 94,
   "metadata": {},
   "outputs": [
    {
     "data": {
      "text/plain": [
       "5000"
      ]
     },
     "execution_count": 94,
     "metadata": {},
     "output_type": "execute_result"
    }
   ],
   "source": [
    "len(results_my['eval1'])"
   ]
  },
  {
   "cell_type": "code",
   "execution_count": null,
   "metadata": {
    "collapsed": true
   },
   "outputs": [],
   "source": []
  },
  {
   "cell_type": "code",
   "execution_count": null,
   "metadata": {
    "collapsed": true
   },
   "outputs": [],
   "source": []
  }
 ],
 "metadata": {
  "anaconda-cloud": {},
  "kernelspec": {
   "display_name": "Python 3",
   "language": "python",
   "name": "python3"
  },
  "language_info": {
   "codemirror_mode": {
    "name": "ipython",
    "version": 3
   },
   "file_extension": ".py",
   "mimetype": "text/x-python",
   "name": "python",
   "nbconvert_exporter": "python",
   "pygments_lexer": "ipython3",
   "version": "3.6.2"
  }
 },
 "nbformat": 4,
 "nbformat_minor": 1
}
